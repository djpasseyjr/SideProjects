{
 "cells": [
  {
   "cell_type": "code",
   "execution_count": 12,
   "metadata": {},
   "outputs": [
    {
     "ename": "UndefVarError",
     "evalue": "UndefVarError: T not defined",
     "output_type": "error",
     "traceback": [
      "UndefVarError: T not defined",
      "",
      "Stacktrace:",
      " [1] top-level scope at In[12]:13"
     ]
    }
   ],
   "source": [
    "struct LabeledData{T}\n",
    "    points::Array{T, 1}\n",
    "    labels::Array{<:Int, 1}\n",
    "end\n",
    "    \n",
    "function Base.show(io::IO, data::LabeledData)\n",
    "    npoints = length(data.points)\n",
    "    nclasses = length(Set(data.labels))\n",
    "    print(io, \"Labeled Data:\\n\")\n",
    "    print(io, \"\\t $npoints data points\\n\")\n",
    "    print(io, \"\\t $nclasses different classes\")\n",
    "end\n",
    "    \n",
    "function Base.:+(d::LabeledData{T}, x::Array{T,1})\n",
    "    return LabeledData(d.points + x, labels)\n",
    "end"
   ]
  },
  {
   "cell_type": "code",
   "execution_count": 10,
   "metadata": {},
   "outputs": [
    {
     "data": {
      "text/plain": [
       "Labeled Data:\n",
       "\t 100 data points\n",
       "\t 2 different classes"
      ]
     },
     "execution_count": 10,
     "metadata": {},
     "output_type": "execute_result"
    }
   ],
   "source": [
    "x = rand(100)\n",
    "lab = Int64.(x .< .5)\n",
    "data = LabeledData(x, lab)\n",
    "data"
   ]
  },
  {
   "cell_type": "code",
   "execution_count": null,
   "metadata": {},
   "outputs": [],
   "source": []
  }
 ],
 "metadata": {
  "kernelspec": {
   "display_name": "Julia 1.3.1",
   "language": "julia",
   "name": "julia-1.3"
  },
  "language_info": {
   "file_extension": ".jl",
   "mimetype": "application/julia",
   "name": "julia",
   "version": "1.3.1"
  }
 },
 "nbformat": 4,
 "nbformat_minor": 4
}
