{
 "cells": [
  {
   "cell_type": "code",
   "execution_count": 1,
   "metadata": {},
   "outputs": [],
   "source": [
    "using BenchmarkTools"
   ]
  },
  {
   "cell_type": "code",
   "execution_count": 2,
   "metadata": {},
   "outputs": [
    {
     "data": {
      "text/plain": [
       "count_lines (generic function with 2 methods)"
      ]
     },
     "execution_count": 2,
     "metadata": {},
     "output_type": "execute_result"
    }
   ],
   "source": [
    "function count_lines(fname::String)\n",
    "    fstream = open(fname)\n",
    "    num_lines = length(readlines(fstream))\n",
    "    close(fstream)\n",
    "    return num_lines\n",
    "end\n",
    "\n",
    "function count_lines(dir::String, ext::String)\n",
    "    # Find files with the correct extension\n",
    "    ext_files = [f for f in readdir(dir) if endswith(f, ext)]\n",
    "    # Append full file location\n",
    "    ext_files = [joinpath(dir, f) for f in ext_files]\n",
    "    # Count lines\n",
    "    tot_lines = sum(map(count_lines, ext_files))\n",
    "    return tot_lines\n",
    "end"
   ]
  },
  {
   "cell_type": "code",
   "execution_count": 3,
   "metadata": {},
   "outputs": [
    {
     "data": {
      "text/plain": [
       "IOStream(<file /Users/djpassey/Code/ReservoirSpecialization/rescomp/ResComp.py>)"
      ]
     },
     "execution_count": 3,
     "metadata": {},
     "output_type": "execute_result"
    }
   ],
   "source": [
    "fname = \"/Users/djpassey/Code/ReservoirSpecialization/rescomp/ResComp.py\"\n",
    "fstream = open(fname)"
   ]
  },
  {
   "cell_type": "code",
   "execution_count": 4,
   "metadata": {},
   "outputs": [
    {
     "data": {
      "text/plain": [
       "BenchmarkTools.Trial: \n",
       "  memory estimate:  1.04 MiB\n",
       "  allocs estimate:  21223\n",
       "  --------------\n",
       "  minimum time:     5.031 ms (0.00% GC)\n",
       "  median time:      5.256 ms (0.00% GC)\n",
       "  mean time:        5.680 ms (3.68% GC)\n",
       "  maximum time:     19.100 ms (54.73% GC)\n",
       "  --------------\n",
       "  samples:          883\n",
       "  evals/sample:     1"
      ]
     },
     "execution_count": 4,
     "metadata": {},
     "output_type": "execute_result"
    }
   ],
   "source": [
    "dir = \"/Users/djpassey/Code/NetworkResearch/Reservoir Computing/Spring 2020/RepExp\"\n",
    "ext = \".py\"\n",
    "count_lines(dir, ext)\n",
    "@benchmark lines = count_lines(dir, ext)"
   ]
  },
  {
   "cell_type": "code",
   "execution_count": 5,
   "metadata": {},
   "outputs": [
    {
     "ename": "LoadError",
     "evalue": "syntax: extra token \"get_total_lines_of_all_files\" after end of expression",
     "output_type": "error",
     "traceback": [
      "syntax: extra token \"get_total_lines_of_all_files\" after end of expression",
      "",
      "Stacktrace:",
      " [1] top-level scope at In[5]:1",
      " [2] include_string(::Function, ::Module, ::String, ::String) at ./loading.jl:1091"
     ]
    }
   ],
   "source": []
  },
  {
   "cell_type": "code",
   "execution_count": null,
   "metadata": {},
   "outputs": [],
   "source": []
  }
 ],
 "metadata": {
  "kernelspec": {
   "display_name": "Julia 1.5.1",
   "language": "julia",
   "name": "julia-1.5"
  },
  "language_info": {
   "file_extension": ".jl",
   "mimetype": "application/julia",
   "name": "julia",
   "version": "1.5.1"
  }
 },
 "nbformat": 4,
 "nbformat_minor": 4
}
