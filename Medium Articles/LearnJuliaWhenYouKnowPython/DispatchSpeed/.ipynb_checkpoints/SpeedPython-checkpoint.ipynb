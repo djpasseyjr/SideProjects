{
 "cells": [
  {
   "cell_type": "code",
   "execution_count": 1,
   "metadata": {},
   "outputs": [],
   "source": [
    "from math import ceil\n",
    "from time import time"
   ]
  },
  {
   "cell_type": "markdown",
   "metadata": {},
   "source": [
    "# Comparing Speed of Python To Julia\n",
    "(See `SpeedJulia.ipynb` for comparison)"
   ]
  },
  {
   "cell_type": "code",
   "execution_count": 2,
   "metadata": {},
   "outputs": [],
   "source": [
    "# Standard Python solution\n",
    "\n",
    "def f(x):\n",
    "    if type(x) == str:\n",
    "        x = float(x)\n",
    "    if type(x) == float:\n",
    "        x = ceil(x)\n",
    "    return x**2 % 4\n",
    "\n",
    "def applytodata(arr):\n",
    "    for a in arr:\n",
    "        f(a)"
   ]
  },
  {
   "cell_type": "code",
   "execution_count": 3,
   "metadata": {},
   "outputs": [],
   "source": [
    "# Make a giant array of mixed types\n",
    "array = [\"5.5\",6,5.5]*1000000\n",
    "\n",
    "# Time applying f to each element\n",
    "t1 = time()\n",
    "applytodata(array)\n",
    "total = time()-t1"
   ]
  },
  {
   "cell_type": "code",
   "execution_count": 4,
   "metadata": {},
   "outputs": [
    {
     "name": "stdout",
     "output_type": "stream",
     "text": [
      "Python speed:\n",
      "1.749  seconds\n"
     ]
    }
   ],
   "source": [
    "print(\"Python speed:\")\n",
    "print(round(total,3), \" seconds\")"
   ]
  }
 ],
 "metadata": {
  "kernelspec": {
   "display_name": "Python 3",
   "language": "python",
   "name": "python3"
  },
  "language_info": {
   "codemirror_mode": {
    "name": "ipython",
    "version": 3
   },
   "file_extension": ".py",
   "mimetype": "text/x-python",
   "name": "python",
   "nbconvert_exporter": "python",
   "pygments_lexer": "ipython3",
   "version": "3.7.4"
  }
 },
 "nbformat": 4,
 "nbformat_minor": 4
}
