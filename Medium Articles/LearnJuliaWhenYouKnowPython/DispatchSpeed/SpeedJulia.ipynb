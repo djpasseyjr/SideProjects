{
 "cells": [
  {
   "cell_type": "markdown",
   "metadata": {},
   "source": [
    "# Comparing Speed of Python To Julia\n",
    "(See `SpeedPython.ipynb` for comparison)"
   ]
  },
  {
   "cell_type": "code",
   "execution_count": 4,
   "metadata": {},
   "outputs": [],
   "source": [
    "using BenchmarkTools"
   ]
  },
  {
   "cell_type": "markdown",
   "metadata": {},
   "source": [
    "### Julia with dispatch"
   ]
  },
  {
   "cell_type": "code",
   "execution_count": 1,
   "metadata": {},
   "outputs": [],
   "source": [
    "# Dispatched Function\n",
    "f(x::Int64) = x^2 % 4\n",
    "f(x::Float64) = f(ceil(Int64, x))\n",
    "f(x::String) = f(parse(Float64, x))\n",
    "\n",
    "# Function to apply f\n",
    "function applytodata(array)\n",
    "    for a in array\n",
    "        f(a)\n",
    "    end\n",
    "end;"
   ]
  },
  {
   "cell_type": "code",
   "execution_count": 5,
   "metadata": {},
   "outputs": [
    {
     "name": "stdout",
     "output_type": "stream",
     "text": [
      "Dispatch Speed\n",
      "  37.374 ms (0 allocations: 0 bytes)\n"
     ]
    }
   ],
   "source": [
    "# Make a giant array of mixed types\n",
    "array_len = 1_000_000\n",
    "array = [s for i=1:array_len for s in [\"5.5\",6,5.5]]\n",
    "\n",
    "# Run once so function will compile\n",
    "applytodata(array);\n",
    "\n",
    "# Time applying f to each element\n",
    "println(\"Dispatch Speed\")\n",
    "@btime applytodata($array);"
   ]
  },
  {
   "cell_type": "markdown",
   "metadata": {},
   "source": [
    "### Julia that Looks Like Python"
   ]
  },
  {
   "cell_type": "code",
   "execution_count": 7,
   "metadata": {},
   "outputs": [],
   "source": [
    "# Python like function\n",
    "function f_py(x)\n",
    "    if isa(x,String)\n",
    "        x = parse(Float64,x)\n",
    "    end\n",
    "    if isa(x,Float64)\n",
    "        x = ceil(Int64,x)\n",
    "    end\n",
    "    x^2 % 4\n",
    "end\n",
    "\n",
    "function applytodata_py(array)\n",
    "    for a in array\n",
    "        f_py(a)\n",
    "    end\n",
    "end;\n"
   ]
  },
  {
   "cell_type": "code",
   "execution_count": 8,
   "metadata": {},
   "outputs": [
    {
     "name": "stdout",
     "output_type": "stream",
     "text": [
      "Python like speed\n",
      "  80.459 ms (0 allocations: 0 bytes)\n"
     ]
    }
   ],
   "source": [
    "# Make a giant array of mixed types\n",
    "array = [s for i=1:1000000 for s in [\"5.5\",6,5.5]]\n",
    "\n",
    "# Run once so function will compile\n",
    "applytodata_py(array);\n",
    "\n",
    "# Time applying f_py to each element\n",
    "println(\"Python like speed\")\n",
    "@btime applytodata_py($array);"
   ]
  },
  {
   "cell_type": "code",
   "execution_count": 10,
   "metadata": {},
   "outputs": [
    {
     "data": {
      "text/plain": [
       "10-element Vector{Int64}:\n",
       "  1000000\n",
       " 11000000\n",
       " 21000000\n",
       " 31000000\n",
       " 41000000\n",
       " 51000000\n",
       " 61000000\n",
       " 71000000\n",
       " 81000000\n",
       " 91000000"
      ]
     },
     "execution_count": 10,
     "metadata": {},
     "output_type": "execute_result"
    }
   ],
   "source": [
    "Test = [\"1.5\", 2.5, 3]\n",
    "\n",
    "Repeat = [10^6:10^7:10^8+1;]"
   ]
  },
  {
   "cell_type": "code",
   "execution_count": 20,
   "metadata": {},
   "outputs": [
    {
     "name": "stdout",
     "output_type": "stream",
     "text": [
      "Array length: 1000000 Seconds: 0.039610665\n",
      "Array length: 11000000 Seconds: 0.427003753\n"
     ]
    },
    {
     "ename": "LoadError",
     "evalue": "InterruptException:",
     "output_type": "error",
     "traceback": [
      "InterruptException:",
      "",
      "Stacktrace:",
      "  [1] Array",
      "    @ ./boot.jl:448 [inlined]",
      "  [2] vect",
      "    @ ./array.jl:129 [inlined]",
      "  [3] #25",
      "    @ ./none:0 [inlined]",
      "  [4] iterate",
      "    @ ./generator.jl:47 [inlined]",
      "  [5] iterate",
      "    @ ./iterators.jl:1093 [inlined]",
      "  [6] grow_to!(dest::Vector{Any}, itr::Base.Iterators.Flatten{Base.Generator{UnitRange{Int64}, var\"#25#26\"}}, st::Tuple{Int64, Base.Generator{Vector{Any}, typeof(identity)}, Int64})",
      "    @ Base ./array.jl:770",
      "  [7] grow_to!(dest::Vector{String}, itr::Base.Iterators.Flatten{Base.Generator{UnitRange{Int64}, var\"#25#26\"}}, st::Tuple{Int64, Base.Generator{Vector{Any}, typeof(identity)}, Int64})",
      "    @ Base ./array.jl:768",
      "  [8] grow_to!(dest::Vector{Any}, itr::Base.Iterators.Flatten{Base.Generator{UnitRange{Int64}, var\"#25#26\"}})",
      "    @ Base ./array.jl:743",
      "  [9] _collect",
      "    @ ./array.jl:652 [inlined]",
      " [10] collect(itr::Base.Iterators.Flatten{Base.Generator{UnitRange{Int64}, var\"#25#26\"}})",
      "    @ Base ./array.jl:602",
      " [11] top-level scope",
      "    @ In[20]:4",
      " [12] eval",
      "    @ ./boot.jl:360 [inlined]",
      " [13] include_string(mapexpr::typeof(REPL.softscope), mod::Module, code::String, filename::String)",
      "    @ Base ./loading.jl:1094"
     ]
    }
   ],
   "source": [
    "ans_time = []\n",
    "ans_allo = []\n",
    "for R in Repeat\n",
    "    array = [s for i=1:R for s in [\"1.5\", 2.5, 3]]\n",
    "    time = @timed applytodata(array)\n",
    "    push!(ans_time, time[2])\n",
    "    push!(ans_allo, time[3])\n",
    "    println(\"Array length: $R Seconds: $(time[2])\")\n",
    "end"
   ]
  },
  {
   "cell_type": "code",
   "execution_count": null,
   "metadata": {},
   "outputs": [],
   "source": []
  }
 ],
 "metadata": {
  "kernelspec": {
   "display_name": "Julia 1.6.1",
   "language": "julia",
   "name": "julia-1.6"
  },
  "language_info": {
   "file_extension": ".jl",
   "mimetype": "application/julia",
   "name": "julia",
   "version": "1.6.1"
  }
 },
 "nbformat": 4,
 "nbformat_minor": 4
}
