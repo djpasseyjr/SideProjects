{
 "cells": [
  {
   "cell_type": "markdown",
   "metadata": {},
   "source": [
    "# Comparing Speed of Python To Julia\n",
    "(See `SpeedPython.ipynb` for comparison)"
   ]
  },
  {
   "cell_type": "markdown",
   "metadata": {},
   "source": [
    "### Julia with dispatch"
   ]
  },
  {
   "cell_type": "code",
   "execution_count": 1,
   "metadata": {},
   "outputs": [],
   "source": [
    "# Dispatched Function\n",
    "f(x::Int64) = x^2 % 4\n",
    "f(x::Float64) = f(ceil(Int64, x))\n",
    "f(x::String) = f(parse(Float64, x))\n",
    "\n",
    "# Function to apply f\n",
    "function applytodata(array)\n",
    "    for a in array\n",
    "        f(a)\n",
    "    end\n",
    "end;"
   ]
  },
  {
   "cell_type": "code",
   "execution_count": 2,
   "metadata": {},
   "outputs": [
    {
     "name": "stdout",
     "output_type": "stream",
     "text": [
      "Dispatch Speed\n",
      "  0.039279 seconds (4 allocations: 160 bytes)\n"
     ]
    }
   ],
   "source": [
    "# Make a giant array of mixed types\n",
    "array = [s for i=1:1000000 for s in [\"5.5\",6,5.5]]\n",
    "\n",
    "# Run once so function will compile\n",
    "applytodata(array);\n",
    "\n",
    "# Time applying f to each element\n",
    "println(\"Dispatch Speed\")\n",
    "@time applytodata(array);"
   ]
  },
  {
   "cell_type": "markdown",
   "metadata": {},
   "source": [
    "### Julia that Looks Like Python"
   ]
  },
  {
   "cell_type": "code",
   "execution_count": 3,
   "metadata": {},
   "outputs": [],
   "source": [
    "# Python like function\n",
    "function f_py(x)\n",
    "    if isa(x,String)\n",
    "        x = parse(Float64,x)\n",
    "    end\n",
    "    if isa(x,Float64)\n",
    "        x = ceil(Int64,x)\n",
    "    end\n",
    "    x^2 % 4\n",
    "end\n",
    "\n",
    "function applytodata_py(array)\n",
    "    for a in array\n",
    "        f_py(a)\n",
    "    end\n",
    "end;\n"
   ]
  },
  {
   "cell_type": "code",
   "execution_count": 4,
   "metadata": {},
   "outputs": [
    {
     "name": "stdout",
     "output_type": "stream",
     "text": [
      "Python like speed\n",
      "  0.088668 seconds (4 allocations: 160 bytes)\n"
     ]
    }
   ],
   "source": [
    "# Make a giant array of mixed types\n",
    "array = [s for i=1:1000000 for s in [\"5.5\",6,5.5]]\n",
    "\n",
    "# Run once so function will compile\n",
    "applytodata_py(array);\n",
    "\n",
    "# Time applying f_py to each element\n",
    "println(\"Python like speed\")\n",
    "@time applytodata_py(array);"
   ]
  }
 ],
 "metadata": {
  "kernelspec": {
   "display_name": "Julia 1.3.1",
   "language": "julia",
   "name": "julia-1.3"
  },
  "language_info": {
   "file_extension": ".jl",
   "mimetype": "application/julia",
   "name": "julia",
   "version": "1.3.1"
  }
 },
 "nbformat": 4,
 "nbformat_minor": 4
}
