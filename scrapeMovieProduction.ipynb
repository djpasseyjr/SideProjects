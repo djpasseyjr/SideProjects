{
 "cells": [
  {
   "cell_type": "code",
   "execution_count": 1,
   "metadata": {},
   "outputs": [],
   "source": [
    "from bs4 import BeautifulSoup\n",
    "from selenium import webdriver\n",
    "import time"
   ]
  },
  {
   "cell_type": "code",
   "execution_count": 45,
   "metadata": {},
   "outputs": [],
   "source": [
    "#Initialize webdriver\n",
    "browser = webdriver.Chrome() \n",
    "#Wikipedia link\n",
    "movieYearslist = 'https://en.wikipedia.org/wiki/Lists_of_American_films'\n",
    "wikipedia = 'https://en.wikipedia.org'"
   ]
  },
  {
   "cell_type": "code",
   "execution_count": 25,
   "metadata": {},
   "outputs": [],
   "source": [
    "browser.get(movieYearslist)\n",
    "yearListLinks = []\n",
    "soup = BeautifulSoup(browser.page_source,'html.parser')\n",
    "\n",
    "yearName = 'List of American films of {}'\n",
    "years = [str(y) for y in range(1967,2018)]\n",
    "\n",
    "for yr in years:\n",
    "    yearList = soup.find('a',attrs={'title': yearName.format(yr)})\n",
    "    yearListLinks.append(wikipedia+str(yearList.get('href')))\n",
    "    "
   ]
  },
  {
   "cell_type": "code",
   "execution_count": 26,
   "metadata": {},
   "outputs": [
    {
     "data": {
      "text/plain": [
       "'https://en.wikipedia.org/wiki/List_of_American_films_of_1974'"
      ]
     },
     "execution_count": 26,
     "metadata": {},
     "output_type": "execute_result"
    }
   ],
   "source": [
    "yearListLinks[7]"
   ]
  },
  {
   "cell_type": "code",
   "execution_count": 49,
   "metadata": {},
   "outputs": [],
   "source": [
    "movieUrls = []\n",
    "didntWork1 = []\n",
    "\n",
    "for yearPage in yearListLinks:\n",
    "    browser.get(yearPage)\n",
    "    time.sleep(1)\n",
    "    soup = BeautifulSoup(browser.page_source,'html.parser')\n",
    "    H2 = soup.find('h2')\n",
    "    subtitle = str(H2.text).strip()\n",
    "\n",
    "    while u'A' not in subtitle:\n",
    "        H2 = H2.find_next('h2')\n",
    "        if H2 is None:\n",
    "            didntWork1.append(yearPage)\n",
    "            break\n",
    "        subtitle = H2.text.strip()\n",
    "\n",
    "    if H2:\n",
    "        tableRow = H2.find_next('tr')\n",
    "        if tableRow is None:\n",
    "            didntWork1.append(yearPage)\n",
    "\n",
    "        while tableRow:\n",
    "            movieLink = tableRow.find('a')\n",
    "            if movieLink:\n",
    "                movieUrls.append(movieLink.get('href'))\n",
    "            tableRow = tableRow.find_next('tr')\n",
    "    "
   ]
  },
  {
   "cell_type": "code",
   "execution_count": 50,
   "metadata": {},
   "outputs": [],
   "source": [
    "didntWork1 = set(didntWork)\n",
    "didntWork2 = set()"
   ]
  },
  {
   "cell_type": "code",
   "execution_count": 51,
   "metadata": {},
   "outputs": [],
   "source": [
    "for yearPage in yearListLinks:\n",
    "    browser.get(yearPage)\n",
    "    time.sleep(1)\n",
    "    soup = BeautifulSoup(browser.page_source,'html.parser')\n",
    "    H3 = soup.find('h3')\n",
    "    subtitle = H3.text.strip()\n",
    "\n",
    "    while u'A' not in subtitle:\n",
    "        H3 = H3.find_next('h3')\n",
    "        if H3 is None:\n",
    "            didntWork2.add(yearPage)\n",
    "            break\n",
    "        subtitle = H3.text.strip()\n",
    "\n",
    "    if H3:\n",
    "        tableRow = H3.find_next('tr')\n",
    "        if tableRow is None:\n",
    "            didntWork2.add(yearPage)\n",
    "\n",
    "        while tableRow:\n",
    "            movieLink = tableRow.find('a')\n",
    "            if movieLink:\n",
    "                movieUrls.append(movieLink.get('href'))\n",
    "            tableRow = tableRow.find_next('tr')"
   ]
  },
  {
   "cell_type": "code",
   "execution_count": 58,
   "metadata": {},
   "outputs": [],
   "source": [
    "didntWork = didntWork1.intersection(didntWork2)"
   ]
  },
  {
   "cell_type": "code",
   "execution_count": 59,
   "metadata": {},
   "outputs": [],
   "source": [
    "for link in didntWork:\n",
    "    browser.get(link)\n",
    "    time.sleep(1)\n",
    "    soup = BeautifulSoup(browser.page_source,'html.parser')\n",
    "    row = soup.find('tr')\n",
    "    \n",
    "    while row:\n",
    "        movie = row.find('a')\n",
    "        if movie:\n",
    "            movieUrls.append(movie.get('href'))\n",
    "        row = row.find_next('tr')"
   ]
  },
  {
   "cell_type": "code",
   "execution_count": 63,
   "metadata": {},
   "outputs": [
    {
     "data": {
      "text/plain": [
       "u'/wiki/My_Brother%27s_Wedding'"
      ]
     },
     "execution_count": 63,
     "metadata": {},
     "output_type": "execute_result"
    }
   ],
   "source": [
    "movieUrls[-100]"
   ]
  },
  {
   "cell_type": "code",
   "execution_count": null,
   "metadata": {},
   "outputs": [],
   "source": []
  }
 ],
 "metadata": {
  "kernelspec": {
   "display_name": "Python [anaconda]",
   "language": "python",
   "name": "Python [anaconda]"
  },
  "language_info": {
   "codemirror_mode": {
    "name": "ipython",
    "version": 2
   },
   "file_extension": ".py",
   "mimetype": "text/x-python",
   "name": "python",
   "nbconvert_exporter": "python",
   "pygments_lexer": "ipython2",
   "version": "2.7.16"
  }
 },
 "nbformat": 4,
 "nbformat_minor": 2
}
