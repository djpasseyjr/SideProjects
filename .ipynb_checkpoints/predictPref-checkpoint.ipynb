{
 "cells": [
  {
   "cell_type": "markdown",
   "metadata": {},
   "source": [
    "# Predicting Preferences\n",
    "---\n",
    "\n",
    "A large dataset of young adult preferences is availible online. It contains answers to music preferences, movie preferences, ethics questions and other topics. The following report cleans the data, runs a brief correlation analysis and explores machine learning models to predict spending preferences in young adults. \n",
    "\n",
    "These machine learning models could be adjusted and used to implement more effective advertizements for entertainment companies."
   ]
  },
  {
   "cell_type": "code",
   "execution_count": 1,
   "metadata": {
    "collapsed": false
   },
   "outputs": [],
   "source": [
    "%matplotlib inline\n",
    "\n",
    "import pandas as pd\n",
    "from matplotlib import pyplot as plt\n",
    "import numpy as np\n"
   ]
  },
  {
   "cell_type": "markdown",
   "metadata": {},
   "source": [
    "### Data cleaning\n",
    "\n",
    "\n",
    "---\n",
    "We begin by reading in the data:"
   ]
  },
  {
   "cell_type": "code",
   "execution_count": 2,
   "metadata": {
    "collapsed": false,
    "scrolled": false
   },
   "outputs": [
    {
     "data": {
      "text/html": [
       "<div>\n",
       "<table border=\"1\" class=\"dataframe\">\n",
       "  <thead>\n",
       "    <tr style=\"text-align: right;\">\n",
       "      <th></th>\n",
       "      <th>Music</th>\n",
       "      <th>Slow songs or fast songs</th>\n",
       "      <th>Dance</th>\n",
       "      <th>Folk</th>\n",
       "      <th>Country</th>\n",
       "      <th>Classical music</th>\n",
       "      <th>Musical</th>\n",
       "      <th>Pop</th>\n",
       "      <th>Rock</th>\n",
       "      <th>Metal or Hardrock</th>\n",
       "      <th>...</th>\n",
       "      <th>Age</th>\n",
       "      <th>Height</th>\n",
       "      <th>Weight</th>\n",
       "      <th>Number of siblings</th>\n",
       "      <th>Gender</th>\n",
       "      <th>Left - right handed</th>\n",
       "      <th>Education</th>\n",
       "      <th>Only child</th>\n",
       "      <th>Village - town</th>\n",
       "      <th>House - block of flats</th>\n",
       "    </tr>\n",
       "  </thead>\n",
       "  <tbody>\n",
       "    <tr>\n",
       "      <th>0</th>\n",
       "      <td>5.0</td>\n",
       "      <td>3.0</td>\n",
       "      <td>2.0</td>\n",
       "      <td>1.0</td>\n",
       "      <td>2.0</td>\n",
       "      <td>2.0</td>\n",
       "      <td>1.0</td>\n",
       "      <td>5.0</td>\n",
       "      <td>5.0</td>\n",
       "      <td>1.0</td>\n",
       "      <td>...</td>\n",
       "      <td>20.0</td>\n",
       "      <td>163.0</td>\n",
       "      <td>48.0</td>\n",
       "      <td>1.0</td>\n",
       "      <td>female</td>\n",
       "      <td>right handed</td>\n",
       "      <td>college/bachelor degree</td>\n",
       "      <td>no</td>\n",
       "      <td>village</td>\n",
       "      <td>block of flats</td>\n",
       "    </tr>\n",
       "    <tr>\n",
       "      <th>1</th>\n",
       "      <td>4.0</td>\n",
       "      <td>4.0</td>\n",
       "      <td>2.0</td>\n",
       "      <td>1.0</td>\n",
       "      <td>1.0</td>\n",
       "      <td>1.0</td>\n",
       "      <td>2.0</td>\n",
       "      <td>3.0</td>\n",
       "      <td>5.0</td>\n",
       "      <td>4.0</td>\n",
       "      <td>...</td>\n",
       "      <td>19.0</td>\n",
       "      <td>163.0</td>\n",
       "      <td>58.0</td>\n",
       "      <td>2.0</td>\n",
       "      <td>female</td>\n",
       "      <td>right handed</td>\n",
       "      <td>college/bachelor degree</td>\n",
       "      <td>no</td>\n",
       "      <td>city</td>\n",
       "      <td>block of flats</td>\n",
       "    </tr>\n",
       "    <tr>\n",
       "      <th>2</th>\n",
       "      <td>5.0</td>\n",
       "      <td>5.0</td>\n",
       "      <td>2.0</td>\n",
       "      <td>2.0</td>\n",
       "      <td>3.0</td>\n",
       "      <td>4.0</td>\n",
       "      <td>5.0</td>\n",
       "      <td>3.0</td>\n",
       "      <td>5.0</td>\n",
       "      <td>3.0</td>\n",
       "      <td>...</td>\n",
       "      <td>20.0</td>\n",
       "      <td>176.0</td>\n",
       "      <td>67.0</td>\n",
       "      <td>2.0</td>\n",
       "      <td>female</td>\n",
       "      <td>right handed</td>\n",
       "      <td>secondary school</td>\n",
       "      <td>no</td>\n",
       "      <td>city</td>\n",
       "      <td>block of flats</td>\n",
       "    </tr>\n",
       "    <tr>\n",
       "      <th>3</th>\n",
       "      <td>5.0</td>\n",
       "      <td>3.0</td>\n",
       "      <td>2.0</td>\n",
       "      <td>1.0</td>\n",
       "      <td>1.0</td>\n",
       "      <td>1.0</td>\n",
       "      <td>1.0</td>\n",
       "      <td>2.0</td>\n",
       "      <td>2.0</td>\n",
       "      <td>1.0</td>\n",
       "      <td>...</td>\n",
       "      <td>22.0</td>\n",
       "      <td>172.0</td>\n",
       "      <td>59.0</td>\n",
       "      <td>1.0</td>\n",
       "      <td>female</td>\n",
       "      <td>right handed</td>\n",
       "      <td>college/bachelor degree</td>\n",
       "      <td>yes</td>\n",
       "      <td>city</td>\n",
       "      <td>house/bungalow</td>\n",
       "    </tr>\n",
       "    <tr>\n",
       "      <th>4</th>\n",
       "      <td>5.0</td>\n",
       "      <td>3.0</td>\n",
       "      <td>4.0</td>\n",
       "      <td>3.0</td>\n",
       "      <td>2.0</td>\n",
       "      <td>4.0</td>\n",
       "      <td>3.0</td>\n",
       "      <td>5.0</td>\n",
       "      <td>3.0</td>\n",
       "      <td>1.0</td>\n",
       "      <td>...</td>\n",
       "      <td>20.0</td>\n",
       "      <td>170.0</td>\n",
       "      <td>59.0</td>\n",
       "      <td>1.0</td>\n",
       "      <td>female</td>\n",
       "      <td>right handed</td>\n",
       "      <td>secondary school</td>\n",
       "      <td>no</td>\n",
       "      <td>village</td>\n",
       "      <td>house/bungalow</td>\n",
       "    </tr>\n",
       "  </tbody>\n",
       "</table>\n",
       "<p>5 rows × 150 columns</p>\n",
       "</div>"
      ],
      "text/plain": [
       "   Music  Slow songs or fast songs  Dance  Folk  Country  Classical music  \\\n",
       "0    5.0                       3.0    2.0   1.0      2.0              2.0   \n",
       "1    4.0                       4.0    2.0   1.0      1.0              1.0   \n",
       "2    5.0                       5.0    2.0   2.0      3.0              4.0   \n",
       "3    5.0                       3.0    2.0   1.0      1.0              1.0   \n",
       "4    5.0                       3.0    4.0   3.0      2.0              4.0   \n",
       "\n",
       "   Musical  Pop  Rock  Metal or Hardrock           ...             Age  \\\n",
       "0      1.0  5.0   5.0                1.0           ...            20.0   \n",
       "1      2.0  3.0   5.0                4.0           ...            19.0   \n",
       "2      5.0  3.0   5.0                3.0           ...            20.0   \n",
       "3      1.0  2.0   2.0                1.0           ...            22.0   \n",
       "4      3.0  5.0   3.0                1.0           ...            20.0   \n",
       "\n",
       "   Height  Weight  Number of siblings  Gender  Left - right handed  \\\n",
       "0   163.0    48.0                 1.0  female         right handed   \n",
       "1   163.0    58.0                 2.0  female         right handed   \n",
       "2   176.0    67.0                 2.0  female         right handed   \n",
       "3   172.0    59.0                 1.0  female         right handed   \n",
       "4   170.0    59.0                 1.0  female         right handed   \n",
       "\n",
       "                 Education  Only child  Village - town  House - block of flats  \n",
       "0  college/bachelor degree          no         village          block of flats  \n",
       "1  college/bachelor degree          no            city          block of flats  \n",
       "2         secondary school          no            city          block of flats  \n",
       "3  college/bachelor degree         yes            city          house/bungalow  \n",
       "4         secondary school          no         village          house/bungalow  \n",
       "\n",
       "[5 rows x 150 columns]"
      ]
     },
     "execution_count": 2,
     "metadata": {},
     "output_type": "execute_result"
    }
   ],
   "source": [
    "resp = pd.read_csv('young-people-survey/responses.csv')\n",
    "resp.head()"
   ]
  },
  {
   "cell_type": "markdown",
   "metadata": {},
   "source": [
    "Next we will fill nans and adjust data types"
   ]
  },
  {
   "cell_type": "code",
   "execution_count": 3,
   "metadata": {},
   "outputs": [
    {
     "name": "stdout",
     "output_type": "stream",
     "text": [
      "134 of 150 columns are floats\n",
      "There are 608 NaNs\n"
     ]
    }
   ],
   "source": [
    "#How many of the 150 columns are floats?\n",
    "print(\"{} of 150 columns are floats\".format((resp.dtypes=='float64').sum()))\n",
    "#How many NaNs are there?\n",
    "print(\"There are {} NaNs\".format(1010*150 -resp.notnull().sum().sum()))"
   ]
  },
  {
   "cell_type": "code",
   "execution_count": 4,
   "metadata": {
    "collapsed": false
   },
   "outputs": [],
   "source": [
    "resp = resp.fillna(resp.median())\n",
    "for c in resp.columns:\n",
    "    try:\n",
    "        resp[c] = resp[c].astype(float)\n",
    "    except:\n",
    "        pass"
   ]
  },
  {
   "cell_type": "code",
   "execution_count": 5,
   "metadata": {},
   "outputs": [
    {
     "name": "stdout",
     "output_type": "stream",
     "text": [
      "139 of 150 columns are floats\n",
      "There are 37 NaNs\n"
     ]
    }
   ],
   "source": [
    "#How many of the 150 columns are floats?\n",
    "print(\"{} of 150 columns are floats\".format((resp.dtypes=='float64').sum()))\n",
    "#How many NaNs are there?\n",
    "print(\"There are {} NaNs\".format(1010*150 -resp.notnull().sum().sum()))"
   ]
  },
  {
   "cell_type": "code",
   "execution_count": 6,
   "metadata": {
    "collapsed": false
   },
   "outputs": [
    {
     "name": "stdout",
     "output_type": "stream",
     "text": [
      "There are 11 non float answers.\n"
     ]
    }
   ],
   "source": [
    "mask = resp.dtypes != 'float64'\n",
    "cateCol = resp.columns[mask]\n",
    "for c in cateCol:\n",
    "    resp[c] = pd.Categorical(resp[c])\n",
    "    \n",
    "print('There are {} non float answers.'.format(mask.sum()))"
   ]
  },
  {
   "cell_type": "markdown",
   "metadata": {},
   "source": [
    "We will have to look more in depth at the categories."
   ]
  },
  {
   "cell_type": "code",
   "execution_count": 7,
   "metadata": {
    "collapsed": false
   },
   "outputs": [
    {
     "data": {
      "text/html": [
       "<div>\n",
       "<table border=\"1\" class=\"dataframe\">\n",
       "  <thead>\n",
       "    <tr style=\"text-align: right;\">\n",
       "      <th></th>\n",
       "      <th>Smoking</th>\n",
       "      <th>Alcohol</th>\n",
       "      <th>Punctuality</th>\n",
       "      <th>Lying</th>\n",
       "      <th>Internet usage</th>\n",
       "      <th>Gender</th>\n",
       "      <th>Left - right handed</th>\n",
       "      <th>Education</th>\n",
       "      <th>Only child</th>\n",
       "      <th>Village - town</th>\n",
       "      <th>House - block of flats</th>\n",
       "    </tr>\n",
       "  </thead>\n",
       "  <tbody>\n",
       "    <tr>\n",
       "      <th>0</th>\n",
       "      <td>never smoked</td>\n",
       "      <td>drink a lot</td>\n",
       "      <td>i am always on time</td>\n",
       "      <td>never</td>\n",
       "      <td>few hours a day</td>\n",
       "      <td>female</td>\n",
       "      <td>right handed</td>\n",
       "      <td>college/bachelor degree</td>\n",
       "      <td>no</td>\n",
       "      <td>village</td>\n",
       "      <td>block of flats</td>\n",
       "    </tr>\n",
       "    <tr>\n",
       "      <th>1</th>\n",
       "      <td>never smoked</td>\n",
       "      <td>drink a lot</td>\n",
       "      <td>i am often early</td>\n",
       "      <td>sometimes</td>\n",
       "      <td>few hours a day</td>\n",
       "      <td>female</td>\n",
       "      <td>right handed</td>\n",
       "      <td>college/bachelor degree</td>\n",
       "      <td>no</td>\n",
       "      <td>city</td>\n",
       "      <td>block of flats</td>\n",
       "    </tr>\n",
       "    <tr>\n",
       "      <th>2</th>\n",
       "      <td>tried smoking</td>\n",
       "      <td>drink a lot</td>\n",
       "      <td>i am often running late</td>\n",
       "      <td>sometimes</td>\n",
       "      <td>few hours a day</td>\n",
       "      <td>female</td>\n",
       "      <td>right handed</td>\n",
       "      <td>secondary school</td>\n",
       "      <td>no</td>\n",
       "      <td>city</td>\n",
       "      <td>block of flats</td>\n",
       "    </tr>\n",
       "    <tr>\n",
       "      <th>3</th>\n",
       "      <td>former smoker</td>\n",
       "      <td>drink a lot</td>\n",
       "      <td>i am often early</td>\n",
       "      <td>only to avoid hurting someone</td>\n",
       "      <td>most of the day</td>\n",
       "      <td>female</td>\n",
       "      <td>right handed</td>\n",
       "      <td>college/bachelor degree</td>\n",
       "      <td>yes</td>\n",
       "      <td>city</td>\n",
       "      <td>house/bungalow</td>\n",
       "    </tr>\n",
       "    <tr>\n",
       "      <th>4</th>\n",
       "      <td>tried smoking</td>\n",
       "      <td>social drinker</td>\n",
       "      <td>i am always on time</td>\n",
       "      <td>everytime it suits me</td>\n",
       "      <td>few hours a day</td>\n",
       "      <td>female</td>\n",
       "      <td>right handed</td>\n",
       "      <td>secondary school</td>\n",
       "      <td>no</td>\n",
       "      <td>village</td>\n",
       "      <td>house/bungalow</td>\n",
       "    </tr>\n",
       "  </tbody>\n",
       "</table>\n",
       "</div>"
      ],
      "text/plain": [
       "         Smoking         Alcohol              Punctuality  \\\n",
       "0   never smoked     drink a lot      i am always on time   \n",
       "1   never smoked     drink a lot         i am often early   \n",
       "2  tried smoking     drink a lot  i am often running late   \n",
       "3  former smoker     drink a lot         i am often early   \n",
       "4  tried smoking  social drinker      i am always on time   \n",
       "\n",
       "                           Lying   Internet usage  Gender Left - right handed  \\\n",
       "0                          never  few hours a day  female        right handed   \n",
       "1                      sometimes  few hours a day  female        right handed   \n",
       "2                      sometimes  few hours a day  female        right handed   \n",
       "3  only to avoid hurting someone  most of the day  female        right handed   \n",
       "4          everytime it suits me  few hours a day  female        right handed   \n",
       "\n",
       "                 Education Only child Village - town House - block of flats  \n",
       "0  college/bachelor degree         no        village         block of flats  \n",
       "1  college/bachelor degree         no           city         block of flats  \n",
       "2         secondary school         no           city         block of flats  \n",
       "3  college/bachelor degree        yes           city         house/bungalow  \n",
       "4         secondary school         no        village         house/bungalow  "
      ]
     },
     "execution_count": 7,
     "metadata": {},
     "output_type": "execute_result"
    }
   ],
   "source": [
    "categoryCols = resp.columns[mask]\n",
    "cateDf = resp[categoryCols]\n",
    "cateDf.iloc[:5,:]"
   ]
  },
  {
   "cell_type": "markdown",
   "metadata": {},
   "source": [
    "Some of the categories are binary and some are on a scale. We will adjust each of them."
   ]
  },
  {
   "cell_type": "code",
   "execution_count": 8,
   "metadata": {
    "collapsed": false
   },
   "outputs": [
    {
     "data": {
      "text/plain": [
       "['Gender',\n",
       " 'Left - right handed',\n",
       " 'Only child',\n",
       " 'Village - town',\n",
       " 'House - block of flats']"
      ]
     },
     "execution_count": 8,
     "metadata": {},
     "output_type": "execute_result"
    }
   ],
   "source": [
    "#Find the binary categories\n",
    "binaryCol = []\n",
    "for c in cateDf.columns:\n",
    "    #If there are only two codes associated with \n",
    "    #the category add it to the list of binaries\n",
    "    if cateDf[c].cat.codes.max() == 1:\n",
    "        binaryCol.append(c)\n",
    "\n",
    "binaryCol"
   ]
  },
  {
   "cell_type": "code",
   "execution_count": 9,
   "metadata": {
    "collapsed": false
   },
   "outputs": [],
   "source": [
    "#Turn Binary columns into codes\n",
    "for c in binaryCol:\n",
    "    resp[c] = resp[c].cat.codes "
   ]
  },
  {
   "cell_type": "code",
   "execution_count": 10,
   "metadata": {
    "collapsed": false
   },
   "outputs": [
    {
     "data": {
      "text/plain": [
       "['Smoking', 'Alcohol', 'Punctuality', 'Lying', 'Internet usage', 'Education']"
      ]
     },
     "execution_count": 10,
     "metadata": {},
     "output_type": "execute_result"
    }
   ],
   "source": [
    "nonBinCol = []\n",
    "for c in cateDf.columns:\n",
    "    #If there are only two codes associated with \n",
    "    #the category add it to the list of binaries\n",
    "    if cateDf[c].cat.codes.max() != 1:\n",
    "        nonBinCol.append(c)\n",
    "nonBinCol"
   ]
  },
  {
   "cell_type": "markdown",
   "metadata": {},
   "source": [
    "For each of these we will generate a list of answers and sort them by hand"
   ]
  },
  {
   "cell_type": "code",
   "execution_count": 11,
   "metadata": {
    "collapsed": false
   },
   "outputs": [
    {
     "name": "stdout",
     "output_type": "stream",
     "text": [
      "Smoking: ['current smoker', 'former smoker', 'never smoked', 'tried smoking']\n",
      "Alcohol: ['drink a lot', 'never', 'social drinker']\n",
      "Punctuality: ['i am always on time', 'i am often early', 'i am often running late']\n",
      "Lying: ['everytime it suits me', 'never', 'only to avoid hurting someone', 'sometimes']\n",
      "Internet Usage: ['few hours a day', 'less than an hour a day', 'most of the day', 'no time at all']\n",
      "Education: ['college/bachelor degree', 'currently a primary school pupil', 'doctorate degree', 'masters degree', 'primary school', 'secondary school']\n"
     ]
    }
   ],
   "source": [
    "print(\"Smoking: {}\".format(list(cateDf.Smoking.cat.categories)))\n",
    "print(\"Alcohol: {}\".format(list(cateDf.Alcohol.cat.categories)))\n",
    "print(\"Punctuality: {}\".format(list(cateDf.Punctuality.cat.categories)))\n",
    "print(\"Lying: {}\".format(list(cateDf.Lying.cat.categories)))\n",
    "print(\"Internet Usage: {}\".format(list(cateDf['Internet usage'].cat.categories)))\n",
    "print(\"Education: {}\".format(list(cateDf.Education.cat.categories)))\n"
   ]
  },
  {
   "cell_type": "markdown",
   "metadata": {},
   "source": [
    "Luckily, each categoization follows a natural ordering. We can use this to turn the categories into numerics."
   ]
  },
  {
   "cell_type": "code",
   "execution_count": 12,
   "metadata": {
    "collapsed": false
   },
   "outputs": [
    {
     "data": {
      "text/plain": [
       "Age                       float64\n",
       "Height                    float64\n",
       "Weight                    float64\n",
       "Number of siblings        float64\n",
       "Gender                       int8\n",
       "Left - right handed          int8\n",
       "Education                    int8\n",
       "Only child                   int8\n",
       "Village - town               int8\n",
       "House - block of flats       int8\n",
       "dtype: object"
      ]
     },
     "execution_count": 12,
     "metadata": {},
     "output_type": "execute_result"
    }
   ],
   "source": [
    "smk = ['never smoked','tried smoking','former smoker','current smoker']\n",
    "alco = ['never','social drinker','drink alot']\n",
    "punc = ['i am often early','i am always on time','i am often running late']\n",
    "ly = ['never','only to avoid hurting someone','sometimes','everytime it suits me']\n",
    "itnet = ['less than an hour a day','few hours a day','most of the day']\n",
    "edu = ['currently a primary school pupil','primary school','secondary school',\n",
    "       'college/bachelor degree', 'masters degree','doctorate degree']\n",
    "\n",
    "#Form new ordered categories\n",
    "\n",
    "resp.Smoking = pd.Categorical(resp.Smoking, ordered=True, categories=smk)\n",
    "\n",
    "resp.Alcohol = pd.Categorical(resp.Alcohol, ordered=True, categories=alco)\n",
    "\n",
    "resp.Punctuality = pd.Categorical(resp.Punctuality, ordered=True, categories=punc)\n",
    "\n",
    "resp.Lying = pd.Categorical(resp.Lying, ordered=True, categories=ly)\n",
    "\n",
    "resp.Education = pd.Categorical(resp.Education, ordered=True, categories=edu)\n",
    "\n",
    "resp['Internet usage'] = pd.Categorical(resp['Internet usage'], ordered=True, categories=itnet)\n",
    "\n",
    "#Turn the ordered categories into codes\n",
    "for c in nonBinCol:\n",
    "    resp[c] = resp[c].cat.codes\n",
    "    \n",
    "resp.dtypes.iloc[-10:]"
   ]
  },
  {
   "cell_type": "markdown",
   "metadata": {},
   "source": [
    "Cast all the category codes into floats and change -1 (the category code for NA) to the mean of the column."
   ]
  },
  {
   "cell_type": "code",
   "execution_count": 13,
   "metadata": {
    "collapsed": false
   },
   "outputs": [],
   "source": [
    "for c in cateCol: \n",
    "    #Cast as float\n",
    "    resp[c] = resp[c].astype(float) \n",
    "    #Replace na\n",
    "    resp[c].replace(-1,resp[c].mode(),inplace=True)\n",
    "    \n",
    "#The above code didn't work completely so we add the \n",
    "#following somewhat redundant step\n",
    "\n",
    "resp.fillna(resp.mode(),inplace=True)\n",
    "#DataVals = np.array(resp.values,dtype=float),\n",
    "\n",
    "#resp = pd.DataFrame(columns=resp.columns)"
   ]
  },
  {
   "cell_type": "code",
   "execution_count": 14,
   "metadata": {
    "collapsed": false,
    "scrolled": true
   },
   "outputs": [
    {
     "name": "stdout",
     "output_type": "stream",
     "text": [
      "150 of 150 columns are floats\n",
      "There are 0 NaNs\n"
     ]
    }
   ],
   "source": [
    "#How many of the 150 columns are floats?\n",
    "print(\"{} of 150 columns are floats\".format((resp.dtypes=='float64').sum()))\n",
    "#How many NaNs are there?\n",
    "print(\"There are {} NaNs\".format(1010*150 -resp.notnull().sum().sum()))"
   ]
  },
  {
   "cell_type": "markdown",
   "metadata": {},
   "source": [
    "### Statistical Analysis\n",
    "---\n",
    "Now that the data is cleaned we can run some analysis on it. Let's look at correlation in the data."
   ]
  },
  {
   "cell_type": "code",
   "execution_count": 15,
   "metadata": {
    "collapsed": false
   },
   "outputs": [],
   "source": [
    "#Extract the correlation matrix\n",
    "Cor = np.triu(resp.corr().values)\n",
    "\n",
    "#Set the diagonal to zero\n",
    "m,n = Cor.shape\n",
    "for i in range(n): Cor[i,i] = 0\n",
    "\n",
    "#Sort the absolute correlation\n",
    "c = abs(np.ravel(Cor))\n",
    "csorted = np.argsort(c)[::-1]\n",
    "\n",
    "#Create tuples of row and column indexes\n",
    "CorSorted = [[s//n,s % n] for s in csorted]\n",
    "\n",
    "#Retrive the factor names\n",
    "mostCorr = [[resp.columns[c[0]],\n",
    "             resp.columns[c[1]],\n",
    "             Cor[c[0],c[1]]] for c in CorSorted]\n",
    "\n",
    "#Create new dataframe\n",
    "mostCorr = pd.DataFrame(mostCorr,columns=[\"Factor1\",\"Factor2\",\"AbsCorrel\"])"
   ]
  },
  {
   "cell_type": "code",
   "execution_count": 16,
   "metadata": {
    "collapsed": false
   },
   "outputs": [
    {
     "name": "stdout",
     "output_type": "stream",
     "text": [
      "The ten most correlated factors are:\n"
     ]
    },
    {
     "data": {
      "text/html": [
       "<div>\n",
       "<table border=\"1\" class=\"dataframe\">\n",
       "  <thead>\n",
       "    <tr style=\"text-align: right;\">\n",
       "      <th></th>\n",
       "      <th>Factor1</th>\n",
       "      <th>Factor2</th>\n",
       "      <th>AbsCorrel</th>\n",
       "    </tr>\n",
       "  </thead>\n",
       "  <tbody>\n",
       "    <tr>\n",
       "      <th>0</th>\n",
       "      <td>Biology</td>\n",
       "      <td>Medicine</td>\n",
       "      <td>0.702746</td>\n",
       "    </tr>\n",
       "    <tr>\n",
       "      <th>1</th>\n",
       "      <td>Biology</td>\n",
       "      <td>Chemistry</td>\n",
       "      <td>0.677562</td>\n",
       "    </tr>\n",
       "    <tr>\n",
       "      <th>2</th>\n",
       "      <td>Height</td>\n",
       "      <td>Weight</td>\n",
       "      <td>0.674775</td>\n",
       "    </tr>\n",
       "    <tr>\n",
       "      <th>3</th>\n",
       "      <td>Fantasy/Fairy tales</td>\n",
       "      <td>Animated</td>\n",
       "      <td>0.673745</td>\n",
       "    </tr>\n",
       "    <tr>\n",
       "      <th>4</th>\n",
       "      <td>Height</td>\n",
       "      <td>Gender</td>\n",
       "      <td>0.665535</td>\n",
       "    </tr>\n",
       "    <tr>\n",
       "      <th>5</th>\n",
       "      <td>Shopping</td>\n",
       "      <td>Shopping centres</td>\n",
       "      <td>0.650524</td>\n",
       "    </tr>\n",
       "    <tr>\n",
       "      <th>6</th>\n",
       "      <td>Weight</td>\n",
       "      <td>Gender</td>\n",
       "      <td>0.625511</td>\n",
       "    </tr>\n",
       "    <tr>\n",
       "      <th>7</th>\n",
       "      <td>Chemistry</td>\n",
       "      <td>Medicine</td>\n",
       "      <td>0.621256</td>\n",
       "    </tr>\n",
       "    <tr>\n",
       "      <th>8</th>\n",
       "      <td>Age</td>\n",
       "      <td>Education</td>\n",
       "      <td>0.609897</td>\n",
       "    </tr>\n",
       "    <tr>\n",
       "      <th>9</th>\n",
       "      <td>Classical music</td>\n",
       "      <td>Opera</td>\n",
       "      <td>0.593821</td>\n",
       "    </tr>\n",
       "  </tbody>\n",
       "</table>\n",
       "</div>"
      ],
      "text/plain": [
       "               Factor1           Factor2  AbsCorrel\n",
       "0              Biology          Medicine   0.702746\n",
       "1              Biology         Chemistry   0.677562\n",
       "2               Height            Weight   0.674775\n",
       "3  Fantasy/Fairy tales          Animated   0.673745\n",
       "4               Height            Gender   0.665535\n",
       "5             Shopping  Shopping centres   0.650524\n",
       "6               Weight            Gender   0.625511\n",
       "7            Chemistry          Medicine   0.621256\n",
       "8                  Age         Education   0.609897\n",
       "9      Classical music             Opera   0.593821"
      ]
     },
     "execution_count": 16,
     "metadata": {},
     "output_type": "execute_result"
    }
   ],
   "source": [
    "print('The ten most correlated factors are:')\n",
    "mostCorr.iloc[:10,:]"
   ]
  },
  {
   "cell_type": "markdown",
   "metadata": {},
   "source": [
    "This proves that nobody studies biology unless they want to be a doctor.\n",
    "\n",
    "## Machine learning\n",
    "---\n",
    "\n",
    "Let's build a scenario where we have some information about a person and want to predict their preferences. We will begin by separating the factors into factor we might have and preference factors."
   ]
  },
  {
   "cell_type": "code",
   "execution_count": 17,
   "metadata": {
    "collapsed": false,
    "scrolled": false
   },
   "outputs": [
    {
     "data": {
      "text/plain": [
       "array(['Music', 'Slow songs or fast songs', 'Dance', 'Folk', 'Country',\n",
       "       'Classical music', 'Musical', 'Pop', 'Rock', 'Metal or Hardrock',\n",
       "       'Punk', 'Hiphop, Rap', 'Reggae, Ska', 'Swing, Jazz', 'Rock n roll',\n",
       "       'Alternative', 'Latino', 'Techno, Trance', 'Opera', 'Movies',\n",
       "       'Horror', 'Thriller', 'Comedy', 'Romantic', 'Sci-fi', 'War',\n",
       "       'Fantasy/Fairy tales', 'Animated', 'Documentary', 'Western',\n",
       "       'Action', 'History', 'Psychology', 'Politics', 'Mathematics',\n",
       "       'Physics', 'Internet', 'PC', 'Economy Management', 'Biology',\n",
       "       'Chemistry', 'Reading', 'Geography', 'Foreign languages',\n",
       "       'Medicine', 'Law', 'Cars', 'Art exhibitions', 'Religion',\n",
       "       'Countryside, outdoors', 'Dancing', 'Musical instruments',\n",
       "       'Writing', 'Passive sport', 'Active sport', 'Gardening',\n",
       "       'Celebrities', 'Shopping', 'Science and technology', 'Theatre',\n",
       "       'Fun with friends', 'Adrenaline sports', 'Pets', 'Flying', 'Storm',\n",
       "       'Darkness', 'Heights', 'Spiders', 'Snakes', 'Rats', 'Ageing',\n",
       "       'Dangerous dogs', 'Fear of public speaking', 'Smoking', 'Alcohol',\n",
       "       'Healthy eating', 'Daily events', 'Prioritising workload',\n",
       "       'Writing notes', 'Workaholism', 'Thinking ahead', 'Final judgement',\n",
       "       'Reliability', 'Keeping promises', 'Loss of interest',\n",
       "       'Friends versus money', 'Funniness', 'Fake', 'Criminal damage',\n",
       "       'Decision making', 'Elections', 'Self-criticism', 'Judgment calls',\n",
       "       'Hypochondria', 'Empathy', 'Eating to survive', 'Giving',\n",
       "       'Compassion to animals', 'Borrowed stuff', 'Loneliness',\n",
       "       'Cheating in school', 'Health', 'Changing the past', 'God',\n",
       "       'Dreams', 'Charity', 'Number of friends', 'Punctuality', 'Lying',\n",
       "       'Waiting', 'New environment', 'Mood swings',\n",
       "       'Appearence and gestures', 'Socializing', 'Achievements',\n",
       "       'Responding to a serious letter', 'Children', 'Assertiveness',\n",
       "       'Getting angry', 'Knowing the right people', 'Public speaking',\n",
       "       'Unpopularity', 'Life struggles', 'Happiness in life',\n",
       "       'Energy levels', 'Small - big dogs', 'Personality',\n",
       "       'Finding lost valuables', 'Getting up', 'Interests or hobbies',\n",
       "       \"Parents' advice\", 'Questionnaires or polls', 'Internet usage',\n",
       "       'Finances', 'Shopping centres', 'Branded clothing',\n",
       "       'Entertainment spending', 'Spending on looks',\n",
       "       'Spending on gadgets', 'Spending on healthy eating', 'Age',\n",
       "       'Height', 'Weight', 'Number of siblings', 'Gender',\n",
       "       'Left - right handed', 'Education', 'Only child', 'Village - town',\n",
       "       'House - block of flats'], dtype=object)"
      ]
     },
     "execution_count": 17,
     "metadata": {},
     "output_type": "execute_result"
    }
   ],
   "source": [
    "resp.columns.values"
   ]
  },
  {
   "cell_type": "markdown",
   "metadata": {},
   "source": [
    "Though there are a lot of topics to choose from, it is unlikely that a business would have clear information about an individual's emotions or ethics. (Unless the business is Facebook).\n",
    "\n",
    "Since it is unlikely that a buisness would have this data, let's assume that we are an entertainment company and have some data about a user's movie, music and subject preferences as well as their age and gender. Based on these preferences we will attempt to predict their spending. \n",
    "\n",
    "We begin by selecting appropriate columns by hand."
   ]
  },
  {
   "cell_type": "code",
   "execution_count": 18,
   "metadata": {
    "collapsed": true
   },
   "outputs": [],
   "source": [
    "musicCol = [\n",
    "    'Music', 'Slow songs or fast songs', \n",
    "    'Dance', 'Folk', 'Country',\n",
    "    'Classical music', 'Musical', \n",
    "    'Pop', 'Rock', 'Metal or Hardrock', \n",
    "    'Punk','Hiphop, Rap', 'Reggae, Ska',\n",
    "    'Swing, Jazz', 'Rock n roll',\n",
    "    'Alternative', 'Latino', \n",
    "    'Techno, Trance', 'Opera' ]\n",
    "\n",
    "movieCol = [\n",
    "    'Movies','Horror', 'Thriller', \n",
    "    'Comedy', 'Romantic', 'Sci-fi',\n",
    "    'War', 'Fantasy/Fairy tales',\n",
    "    'Animated' ,'Documentary',\n",
    "    'Western', 'Action']\n",
    "\n",
    "subjCol = [\n",
    "    'History', 'Psychology', 'Politics',\n",
    "    'Mathematics','Physics', 'Internet', \n",
    "    'PC', 'Economy Management', \n",
    "    'Biology', 'Chemistry','Reading', \n",
    "    'Geography', 'Foreign languages', \n",
    "    'Medicine', 'Law']\n",
    "\n",
    "pastimesCol = [\n",
    "    'Interests or hobbies','Cars', \n",
    "    'Art exhibitions', 'Religion',\n",
    "    'Countryside, outdoors', 'Dancing',\n",
    "    'Musical instruments', 'Writing',\n",
    "    'Passive sport', 'Active sport',\n",
    "    'Gardening', 'Celebrities', \n",
    "    'Shopping', 'Science and technology',\n",
    "    'Theatre','Fun with friends',\n",
    "    'Adrenaline sports', 'Pets', \n",
    "    'Flying', 'Small - big dogs']\n",
    "\n",
    "financeCol = [\n",
    "    'Finances', 'Shopping centres',\n",
    "    'Branded clothing',\n",
    "    'Entertainment spending',\n",
    "    'Spending on looks',\n",
    "    'Spending on gadgets',\n",
    "    'Spending on healthy eating']\n"
   ]
  },
  {
   "cell_type": "code",
   "execution_count": 19,
   "metadata": {},
   "outputs": [],
   "source": [
    "#Create usable subset of the data\n",
    "train_columns = subjCol+musicCol+movieCol+[\"Gender\",\"Age\"]\n",
    "X = resp[train_columns]\n",
    "y = resp['Spending on looks']"
   ]
  },
  {
   "cell_type": "markdown",
   "metadata": {},
   "source": [
    "We will begin our exploration of machine learning models by writing a function to test each model. Let's see how well several key methods predict a person's willingness to spend on looks."
   ]
  },
  {
   "cell_type": "code",
   "execution_count": 20,
   "metadata": {
    "collapsed": true
   },
   "outputs": [],
   "source": [
    "from sklearn.model_selection import train_test_split"
   ]
  },
  {
   "cell_type": "code",
   "execution_count": 21,
   "metadata": {},
   "outputs": [],
   "source": [
    "def testModelAcc(model,X,y,numTests=20):\n",
    "    accuracy = []\n",
    "    #Repeated accuracy tests\n",
    "    for i in range(numTests):\n",
    "        splits = train_test_split(X,y,test_size =.3)\n",
    "        Xtrain,Xtest,ytrain,ytest = splits\n",
    "        fitted = model.fit(Xtrain,ytrain)\n",
    "        ypre = fitted.predict(Xtest)\n",
    "        acc = sum(ypre==ytest)/float(len(ytest))\n",
    "        accuracy.append(acc)\n",
    "    \n",
    "    #Return method name and average accuracy\n",
    "    accuracy = np.mean(accuracy)\n",
    "    name = str(model)[:str(model).find('(')]\n",
    "    \n",
    "    return name,accuracy"
   ]
  },
  {
   "cell_type": "markdown",
   "metadata": {},
   "source": [
    "### Naive Bayes\n",
    "\n",
    "Naive bayes uses baysian statistics to build a distribution for each feature. Let's see how it preforms."
   ]
  },
  {
   "cell_type": "code",
   "execution_count": 22,
   "metadata": {},
   "outputs": [],
   "source": [
    "from sklearn.naive_bayes import GaussianNB"
   ]
  },
  {
   "cell_type": "code",
   "execution_count": 23,
   "metadata": {},
   "outputs": [
    {
     "name": "stdout",
     "output_type": "stream",
     "text": [
      "GaussianNB accuracy: 0.287128712871\n"
     ]
    }
   ],
   "source": [
    "name,acc = testModelAcc(GaussianNB(),X,y)\n",
    "print(\"{} accuracy: {}\".format(name,acc))"
   ]
  },
  {
   "cell_type": "markdown",
   "metadata": {},
   "source": [
    "Not that great of accuracy. It is slightly better than a random classifier, which would give 20% acuracy. To improve the prediction power, let's turn the spending vector into two groups of people instead of 5. We will label them as a spender if they ranked gadget spending as a 4 or a 5 and a non spender otherwise."
   ]
  },
  {
   "cell_type": "code",
   "execution_count": 24,
   "metadata": {
    "collapsed": true
   },
   "outputs": [],
   "source": [
    "#Find where gadget spending is high\n",
    "spenderMask = y >= 4\n",
    "ybin = y.copy()\n",
    "#Rate these people as 1 and all others as 0\n",
    "ybin[spenderMask] = 1\n",
    "ybin[~spenderMask] = 0"
   ]
  },
  {
   "cell_type": "markdown",
   "metadata": {},
   "source": [
    "First we will examine the distribution of spenders and non spenders:"
   ]
  },
  {
   "cell_type": "code",
   "execution_count": 25,
   "metadata": {},
   "outputs": [
    {
     "name": "stdout",
     "output_type": "stream",
     "text": [
      "Spenders: 0.387128712871\n",
      "Non Spenders: 0.612871287129\n"
     ]
    }
   ],
   "source": [
    "spenders = sum(ybin)/float(len(ybin))\n",
    "print(\"Spenders: {}\".format(spenders))\n",
    "print(\"Non Spenders: {}\".format(1-spenders))"
   ]
  },
  {
   "cell_type": "markdown",
   "metadata": {},
   "source": [
    "We will want our models to have better accuracy than just predicting spenders with a 54% rate."
   ]
  },
  {
   "cell_type": "code",
   "execution_count": 26,
   "metadata": {
    "collapsed": false
   },
   "outputs": [
    {
     "name": "stdout",
     "output_type": "stream",
     "text": [
      "GaussianNB accuracy: 0.636798679868\n"
     ]
    }
   ],
   "source": [
    "name,acc = testModelAcc(GaussianNB(),X,ybin)\n",
    "print(\"{} accuracy: {}\".format(name,acc))"
   ]
  },
  {
   "cell_type": "markdown",
   "metadata": {},
   "source": [
    "This has slighly better accuracy than just judging the distribution. We'll try to find something better."
   ]
  },
  {
   "cell_type": "markdown",
   "metadata": {},
   "source": [
    "### Decision Trees\n",
    "Decision trees try to split the data on key feature values and make predictions based on those values."
   ]
  },
  {
   "cell_type": "code",
   "execution_count": 27,
   "metadata": {},
   "outputs": [],
   "source": [
    "from sklearn.tree import DecisionTreeRegressor\n",
    "from sklearn.tree import DecisionTreeClassifier"
   ]
  },
  {
   "cell_type": "code",
   "execution_count": 28,
   "metadata": {},
   "outputs": [
    {
     "name": "stdout",
     "output_type": "stream",
     "text": [
      "DecisionTreeRegressor accuracy: 0.245709570957\n",
      "DecisionTreeClassifier accuracy: 0.238778877888\n"
     ]
    }
   ],
   "source": [
    "#Five part classification\n",
    "name,acc = testModelAcc(DecisionTreeRegressor(),X,y)\n",
    "print(\"{} accuracy: {}\".format(name,acc))\n",
    "name,acc = testModelAcc(DecisionTreeClassifier(),X,y)\n",
    "print(\"{} accuracy: {}\".format(name,acc))"
   ]
  },
  {
   "cell_type": "code",
   "execution_count": 29,
   "metadata": {},
   "outputs": [
    {
     "name": "stdout",
     "output_type": "stream",
     "text": [
      "DecisionTreeRegressor accuracy: 0.570627062706\n",
      "DecisionTreeClassifier accuracy: 0.562376237624\n"
     ]
    }
   ],
   "source": [
    "#Binary Classification\n",
    "name, acc = testModelAcc(DecisionTreeRegressor(),X,ybin)\n",
    "print(\"{} accuracy: {}\".format(name,acc))\n",
    "name,acc = testModelAcc(DecisionTreeClassifier(),X,ybin)\n",
    "print(\"{} accuracy: {}\".format(name,acc))"
   ]
  },
  {
   "cell_type": "markdown",
   "metadata": {},
   "source": [
    "Decision trees preformed rather poorly. This could be because there is not a high amount of correlation between the given features and the target. It may be difficult to determine a meaningful split."
   ]
  },
  {
   "cell_type": "markdown",
   "metadata": {},
   "source": [
    "### Random forest\n",
    "Random forest genereates lots of decision trees and ensambles the predictions to improve accuracy"
   ]
  },
  {
   "cell_type": "code",
   "execution_count": 30,
   "metadata": {},
   "outputs": [],
   "source": [
    "from sklearn.ensemble import RandomForestClassifier\n",
    "from sklearn.ensemble import RandomForestRegressor"
   ]
  },
  {
   "cell_type": "code",
   "execution_count": 31,
   "metadata": {},
   "outputs": [
    {
     "name": "stdout",
     "output_type": "stream",
     "text": [
      "RandomForestRegressor accuracy: 0.0354785478548\n",
      "RandomForestClassifier accuracy: 0.260396039604\n"
     ]
    }
   ],
   "source": [
    "#Five part classification\n",
    "name,acc = testModelAcc(RandomForestRegressor(),X,y)\n",
    "print(\"{} accuracy: {}\".format(name,acc))\n",
    "name,acc = testModelAcc(RandomForestClassifier(),X,y)\n",
    "print(\"{} accuracy: {}\".format(name,acc))"
   ]
  },
  {
   "cell_type": "code",
   "execution_count": 32,
   "metadata": {},
   "outputs": [
    {
     "name": "stdout",
     "output_type": "stream",
     "text": [
      "RandomForestRegressor accuracy: 0.0270627062706\n",
      "RandomForestClassifier accuracy: 0.613696369637\n"
     ]
    }
   ],
   "source": [
    "#Binary classification\n",
    "name,acc = testModelAcc(RandomForestRegressor(),X,ybin)\n",
    "print(\"{} accuracy: {}\".format(name,acc))\n",
    "name,acc = testModelAcc(RandomForestClassifier(),X,ybin)\n",
    "print(\"{} accuracy: {}\".format(name,acc))"
   ]
  },
  {
   "cell_type": "markdown",
   "metadata": {},
   "source": [
    "Random Forest is not much of an improvement on decision trees in the five class case. In the binary case, the classifier does significantly better. As you can see the regressor model does exceptionally poorly. This is to be expected because the regressor is suited to model continuous data and our five point scale is more categorical than continuous.\n",
    "\n",
    "### SVM\n",
    "The Support Vector Machine model class attempt to divide the data into classes using multi-dimentional vectors."
   ]
  },
  {
   "cell_type": "code",
   "execution_count": 33,
   "metadata": {},
   "outputs": [],
   "source": [
    "from sklearn import svm"
   ]
  },
  {
   "cell_type": "code",
   "execution_count": 34,
   "metadata": {},
   "outputs": [
    {
     "name": "stdout",
     "output_type": "stream",
     "text": [
      "SVC accuracy: 0.289603960396\n"
     ]
    }
   ],
   "source": [
    "#Five class classification\n",
    "name,acc = testModelAcc(svm.SVC(),X,y)\n",
    "print(\"{} accuracy: {}\".format(name,acc))"
   ]
  },
  {
   "cell_type": "code",
   "execution_count": 35,
   "metadata": {},
   "outputs": [
    {
     "name": "stdout",
     "output_type": "stream",
     "text": [
      "SVC accuracy: 0.642574257426\n"
     ]
    }
   ],
   "source": [
    "#Binary classification\n",
    "name,acc = testModelAcc(svm.SVC(),X,ybin)\n",
    "print(\"{} accuracy: {}\".format(name,acc))"
   ]
  },
  {
   "cell_type": "markdown",
   "metadata": {},
   "source": [
    "SVM preforms the best so far, even outshining Naive Bayes. SVM has potential for improvement by tuning it's parameters. We will approach this later."
   ]
  },
  {
   "cell_type": "markdown",
   "metadata": {},
   "source": [
    "### Logistic Regression\n",
    "The logistic regression method creates a logistic probability distribution and uses it to predict the target vector."
   ]
  },
  {
   "cell_type": "code",
   "execution_count": 36,
   "metadata": {},
   "outputs": [],
   "source": [
    "from sklearn.linear_model import LogisticRegression"
   ]
  },
  {
   "cell_type": "code",
   "execution_count": 37,
   "metadata": {},
   "outputs": [
    {
     "name": "stdout",
     "output_type": "stream",
     "text": [
      "LogisticRegression accuracy: 0.268481848185\n"
     ]
    }
   ],
   "source": [
    "name,acc = testModelAcc(LogisticRegression(),X,y)\n",
    "print(\"{} accuracy: {}\".format(name,acc))"
   ]
  },
  {
   "cell_type": "code",
   "execution_count": 38,
   "metadata": {},
   "outputs": [
    {
     "name": "stdout",
     "output_type": "stream",
     "text": [
      "LogisticRegression accuracy: 0.633828382838\n"
     ]
    }
   ],
   "source": [
    "name,acc = testModelAcc(LogisticRegression(),X,ybin)\n",
    "print(\"{} accuracy: {}\".format(name,acc))"
   ]
  },
  {
   "cell_type": "markdown",
   "metadata": {},
   "source": [
    "### What can we predict?\n",
    "The accuracy for predicting spending on looks was less than desirable. Let's look at ALL of the spending columns and determine which ones we can best predict."
   ]
  },
  {
   "cell_type": "code",
   "execution_count": 39,
   "metadata": {},
   "outputs": [],
   "source": [
    "#Break up the data \n",
    "train_columns = subjCol + musicCol+ movieCol+ [\"Gender\",\"Age\"]\n",
    "X = resp[train_columns]\n",
    "\n",
    "#Make a list of all spending columns\n",
    "spendingCol = [\"Branded clothing\",\n",
    "               \"Entertainment spending\",\n",
    "               \"Spending on looks\",\n",
    "               \"Spending on gadgets\",\n",
    "               \"Spending on healthy eating\"]\n",
    "\n",
    "#Make a list of methods\n",
    "methods = [GaussianNB,\n",
    "           DecisionTreeClassifier,\n",
    "           DecisionTreeRegressor,\n",
    "           RandomForestClassifier,\n",
    "           RandomForestRegressor,\n",
    "           svm.SVC,\n",
    "           LogisticRegression]\n",
    "\n",
    "#Make dictionaries to store the accuracy data\n",
    "fiveClass = dict()\n",
    "binClass = dict()\n",
    "for model in methods:\n",
    "    name = str(model())[:str(model()).find('(')]\n",
    "    fiveClass[name] = []\n",
    "    binClass[name] = []\n",
    "    "
   ]
  },
  {
   "cell_type": "markdown",
   "metadata": {},
   "source": [
    "Next, we will test each method's predictions about each spending column.\n",
    "\n",
    "It is important to note that before storing the model accuracy, we will subtract .2 (the random classifier accuracy). This way, we *only* see each model's improvement on a random classifier.\n",
    "\n",
    "### Five Spending Class Prediction Accuracy\n",
    "---"
   ]
  },
  {
   "cell_type": "code",
   "execution_count": 40,
   "metadata": {},
   "outputs": [
    {
     "data": {
      "text/html": [
       "<div>\n",
       "<table border=\"1\" class=\"dataframe\">\n",
       "  <thead>\n",
       "    <tr style=\"text-align: right;\">\n",
       "      <th></th>\n",
       "      <th>DecisionTreeClassifier</th>\n",
       "      <th>DecisionTreeRegressor</th>\n",
       "      <th>GaussianNB</th>\n",
       "      <th>LogisticRegression</th>\n",
       "      <th>RandomForestClassifier</th>\n",
       "      <th>RandomForestRegressor</th>\n",
       "      <th>SVC</th>\n",
       "    </tr>\n",
       "  </thead>\n",
       "  <tbody>\n",
       "    <tr>\n",
       "      <th>Branded clothing</th>\n",
       "      <td>0.030858</td>\n",
       "      <td>0.029538</td>\n",
       "      <td>0.065512</td>\n",
       "      <td>0.096700</td>\n",
       "      <td>0.052310</td>\n",
       "      <td>-0.169307</td>\n",
       "      <td>0.102805</td>\n",
       "    </tr>\n",
       "    <tr>\n",
       "      <th>Entertainment spending</th>\n",
       "      <td>0.036964</td>\n",
       "      <td>0.047030</td>\n",
       "      <td>0.078218</td>\n",
       "      <td>0.081353</td>\n",
       "      <td>0.075743</td>\n",
       "      <td>-0.170627</td>\n",
       "      <td>0.109076</td>\n",
       "    </tr>\n",
       "    <tr>\n",
       "      <th>Spending on looks</th>\n",
       "      <td>0.034818</td>\n",
       "      <td>0.037624</td>\n",
       "      <td>0.084983</td>\n",
       "      <td>0.068977</td>\n",
       "      <td>0.052970</td>\n",
       "      <td>-0.170132</td>\n",
       "      <td>0.094389</td>\n",
       "    </tr>\n",
       "    <tr>\n",
       "      <th>Spending on gadgets</th>\n",
       "      <td>0.049505</td>\n",
       "      <td>0.053300</td>\n",
       "      <td>0.098680</td>\n",
       "      <td>0.077228</td>\n",
       "      <td>0.081188</td>\n",
       "      <td>-0.171452</td>\n",
       "      <td>0.099505</td>\n",
       "    </tr>\n",
       "    <tr>\n",
       "      <th>Spending on healthy eating</th>\n",
       "      <td>0.067822</td>\n",
       "      <td>0.049175</td>\n",
       "      <td>0.103630</td>\n",
       "      <td>0.090924</td>\n",
       "      <td>0.085974</td>\n",
       "      <td>-0.161221</td>\n",
       "      <td>0.121782</td>\n",
       "    </tr>\n",
       "  </tbody>\n",
       "</table>\n",
       "</div>"
      ],
      "text/plain": [
       "                            DecisionTreeClassifier  DecisionTreeRegressor  \\\n",
       "Branded clothing                          0.030858               0.029538   \n",
       "Entertainment spending                    0.036964               0.047030   \n",
       "Spending on looks                         0.034818               0.037624   \n",
       "Spending on gadgets                       0.049505               0.053300   \n",
       "Spending on healthy eating                0.067822               0.049175   \n",
       "\n",
       "                            GaussianNB  LogisticRegression  \\\n",
       "Branded clothing              0.065512            0.096700   \n",
       "Entertainment spending        0.078218            0.081353   \n",
       "Spending on looks             0.084983            0.068977   \n",
       "Spending on gadgets           0.098680            0.077228   \n",
       "Spending on healthy eating    0.103630            0.090924   \n",
       "\n",
       "                            RandomForestClassifier  RandomForestRegressor  \\\n",
       "Branded clothing                          0.052310              -0.169307   \n",
       "Entertainment spending                    0.075743              -0.170627   \n",
       "Spending on looks                         0.052970              -0.170132   \n",
       "Spending on gadgets                       0.081188              -0.171452   \n",
       "Spending on healthy eating                0.085974              -0.161221   \n",
       "\n",
       "                                 SVC  \n",
       "Branded clothing            0.102805  \n",
       "Entertainment spending      0.109076  \n",
       "Spending on looks           0.094389  \n",
       "Spending on gadgets         0.099505  \n",
       "Spending on healthy eating  0.121782  "
      ]
     },
     "execution_count": 40,
     "metadata": {},
     "output_type": "execute_result"
    }
   ],
   "source": [
    "#Cycle through all methods and all prediction columns\n",
    "for col in spendingCol:\n",
    "    y = resp[col]\n",
    "    for m in methods:\n",
    "        name,acc = testModelAcc(m(),X,y)\n",
    "        fiveClass[name].append(acc - .2)\n",
    "        \n",
    "#Put the results in a data frame\n",
    "fiveClass = pd.DataFrame(fiveClass,index=spendingCol)\n",
    "fiveClass"
   ]
  },
  {
   "cell_type": "markdown",
   "metadata": {},
   "source": [
    "Finally, we will test the model accuracy in binary classification. In this case, we will subtract the .5 from the accuracy before storing (because this is a random classifier's accuracy.)\n",
    "\n",
    "### Spender/NonSpender Classification Accuracy\n",
    "---"
   ]
  },
  {
   "cell_type": "code",
   "execution_count": 41,
   "metadata": {},
   "outputs": [
    {
     "data": {
      "text/html": [
       "<div>\n",
       "<table border=\"1\" class=\"dataframe\">\n",
       "  <thead>\n",
       "    <tr style=\"text-align: right;\">\n",
       "      <th></th>\n",
       "      <th>DecisionTreeClassifier</th>\n",
       "      <th>DecisionTreeRegressor</th>\n",
       "      <th>GaussianNB</th>\n",
       "      <th>LogisticRegression</th>\n",
       "      <th>RandomForestClassifier</th>\n",
       "      <th>RandomForestRegressor</th>\n",
       "      <th>SVC</th>\n",
       "    </tr>\n",
       "  </thead>\n",
       "  <tbody>\n",
       "    <tr>\n",
       "      <th>Branded clothing</th>\n",
       "      <td>0.065182</td>\n",
       "      <td>0.068647</td>\n",
       "      <td>0.109901</td>\n",
       "      <td>0.129373</td>\n",
       "      <td>0.111716</td>\n",
       "      <td>-0.479703</td>\n",
       "      <td>0.148680</td>\n",
       "    </tr>\n",
       "    <tr>\n",
       "      <th>Entertainment spending</th>\n",
       "      <td>0.051320</td>\n",
       "      <td>0.048020</td>\n",
       "      <td>0.113531</td>\n",
       "      <td>0.105446</td>\n",
       "      <td>0.088614</td>\n",
       "      <td>-0.482178</td>\n",
       "      <td>0.095050</td>\n",
       "    </tr>\n",
       "    <tr>\n",
       "      <th>Spending on looks</th>\n",
       "      <td>0.070957</td>\n",
       "      <td>0.051320</td>\n",
       "      <td>0.125248</td>\n",
       "      <td>0.133828</td>\n",
       "      <td>0.110396</td>\n",
       "      <td>-0.471617</td>\n",
       "      <td>0.136469</td>\n",
       "    </tr>\n",
       "    <tr>\n",
       "      <th>Spending on gadgets</th>\n",
       "      <td>0.109736</td>\n",
       "      <td>0.098845</td>\n",
       "      <td>0.171287</td>\n",
       "      <td>0.190924</td>\n",
       "      <td>0.177888</td>\n",
       "      <td>-0.437129</td>\n",
       "      <td>0.199010</td>\n",
       "    </tr>\n",
       "    <tr>\n",
       "      <th>Spending on healthy eating</th>\n",
       "      <td>0.023102</td>\n",
       "      <td>0.031518</td>\n",
       "      <td>0.070957</td>\n",
       "      <td>0.059736</td>\n",
       "      <td>0.030033</td>\n",
       "      <td>-0.491749</td>\n",
       "      <td>0.064686</td>\n",
       "    </tr>\n",
       "  </tbody>\n",
       "</table>\n",
       "</div>"
      ],
      "text/plain": [
       "                            DecisionTreeClassifier  DecisionTreeRegressor  \\\n",
       "Branded clothing                          0.065182               0.068647   \n",
       "Entertainment spending                    0.051320               0.048020   \n",
       "Spending on looks                         0.070957               0.051320   \n",
       "Spending on gadgets                       0.109736               0.098845   \n",
       "Spending on healthy eating                0.023102               0.031518   \n",
       "\n",
       "                            GaussianNB  LogisticRegression  \\\n",
       "Branded clothing              0.109901            0.129373   \n",
       "Entertainment spending        0.113531            0.105446   \n",
       "Spending on looks             0.125248            0.133828   \n",
       "Spending on gadgets           0.171287            0.190924   \n",
       "Spending on healthy eating    0.070957            0.059736   \n",
       "\n",
       "                            RandomForestClassifier  RandomForestRegressor  \\\n",
       "Branded clothing                          0.111716              -0.479703   \n",
       "Entertainment spending                    0.088614              -0.482178   \n",
       "Spending on looks                         0.110396              -0.471617   \n",
       "Spending on gadgets                       0.177888              -0.437129   \n",
       "Spending on healthy eating                0.030033              -0.491749   \n",
       "\n",
       "                                 SVC  \n",
       "Branded clothing            0.148680  \n",
       "Entertainment spending      0.095050  \n",
       "Spending on looks           0.136469  \n",
       "Spending on gadgets         0.199010  \n",
       "Spending on healthy eating  0.064686  "
      ]
     },
     "execution_count": 41,
     "metadata": {},
     "output_type": "execute_result"
    }
   ],
   "source": [
    "for col in spendingCol:\n",
    "    \n",
    "    y = resp[col]\n",
    "    spenderMask = y >= 4\n",
    "    ybin = y.copy()\n",
    "    #Rate these people as 1 and all others as 0\n",
    "    ybin[spenderMask] = 1\n",
    "    ybin[~spenderMask] = 0\n",
    "    \n",
    "    for m in methods:\n",
    "        name,acc = testModelAcc(m(),X,ybin)\n",
    "        binClass[name].append(acc - .5)\n",
    "        \n",
    "        \n",
    "#Put the results in a data frame\n",
    "binClass = pd.DataFrame(binClass,index=spendingCol)\n",
    "binClass"
   ]
  },
  {
   "cell_type": "markdown",
   "metadata": {},
   "source": [
    "### Parameter Tuning\n",
    "Based on the dataframes above, SVM preforms the best on spending on looks and spending on gadgets (binary). We will optimize our SVM parameters with a grid search."
   ]
  },
  {
   "cell_type": "code",
   "execution_count": 42,
   "metadata": {},
   "outputs": [
    {
     "name": "stdout",
     "output_type": "stream",
     "text": [
      "Best Looks Spending SVM Accuracy: 0.341584158416\n"
     ]
    }
   ],
   "source": [
    "from sklearn.model_selection import GridSearchCV\n",
    "y = resp['Spending on healthy eating']\n",
    "\n",
    "#Make parameter dictionary\n",
    "Cvals= np.logspace(-2, 10, 13)\n",
    "gammaVals = np.logspace(-9, 3, 13)\n",
    "params = dict(gamma=gammaVals, C=Cvals)\n",
    "\n",
    "#Run the GridSearch\n",
    "LooksGrid = GridSearchCV(svm.SVC(kernel='rbf'), param_grid=params)\n",
    "LooksGrid.fit(X, y)\n",
    "print(\"Best Looks Spending SVM Accuracy: {}\".format(LooksGrid.best_score_))"
   ]
  },
  {
   "cell_type": "code",
   "execution_count": 43,
   "metadata": {},
   "outputs": [
    {
     "name": "stdout",
     "output_type": "stream",
     "text": [
      "Best gadgets Spending SVM Accuracy: 0.7\n"
     ]
    }
   ],
   "source": [
    "from sklearn.model_selection import GridSearchCV\n",
    "\n",
    "#Make a binary target vector\n",
    "y = resp['Spending on gadgets']\n",
    "spenderMask = y >= 4\n",
    "ybin = y.copy()\n",
    "#Rate these people as 1 and all others as 0\n",
    "ybin[spenderMask] = 1\n",
    "ybin[~spenderMask] = 0\n",
    "\n",
    "#Make parameter dictionary\n",
    "Cvals= np.logspace(-2, 10, 13)\n",
    "gammaVals = np.logspace(-9, 3, 13)\n",
    "params = dict(gamma=gammaVals, C=Cvals)\n",
    "\n",
    "#Run the GridSearch\n",
    "GadgetGrid = GridSearchCV(svm.SVC(kernel='rbf'), param_grid=params)\n",
    "GadgetGrid.fit(X, ybin)\n",
    "print(\"Best gadgets Spending SVM Accuracy: {}\".format(GadgetGrid.best_score_))"
   ]
  },
  {
   "cell_type": "code",
   "execution_count": 44,
   "metadata": {},
   "outputs": [
    {
     "data": {
      "text/plain": [
       "{'C': 1000.0, 'gamma': 1.0000000000000001e-05}"
      ]
     },
     "execution_count": 44,
     "metadata": {},
     "output_type": "execute_result"
    }
   ],
   "source": [
    "GadgetGrid.best_params_"
   ]
  },
  {
   "cell_type": "markdown",
   "metadata": {},
   "source": [
    "Using these parameters, we create out best model below:"
   ]
  },
  {
   "cell_type": "code",
   "execution_count": 47,
   "metadata": {},
   "outputs": [
    {
     "name": "stdout",
     "output_type": "stream",
     "text": [
      "0.732673267327\n"
     ]
    }
   ],
   "source": [
    "bestSVM = svm.SVC(kernel='rbf',C=1000,gamma=1e-5)\n",
    "splits = train_test_split(X,ybin,test_size =.3)\n",
    "Xtrain,Xtest,ytrain,ytest = splits\n",
    "\n",
    "ypre = bestSVM.fit(Xtrain,ytrain).predict(Xtest)\n",
    "acc = sum(ypre==ytest)/float(len(ytest))\n",
    "print(acc)"
   ]
  },
  {
   "cell_type": "markdown",
   "metadata": {},
   "source": [
    "### Conclusion\n",
    "---\n",
    "After cleaning the data and trying a large number of machine learning techniques, we were able to predict gadget spending preferences for young adults with 70% accuracy. The best predictor can be seen above. Support vector machines was could have been the most accurate because the integer data made it easier to find lines between data points.\n",
    "\n",
    "This prediction algorithm could be used for a site like YouTube in predicting which ads are most likely to generate revenue."
   ]
  }
 ],
 "metadata": {
  "anaconda-cloud": {},
  "kernelspec": {
   "display_name": "Python [anaconda]",
   "language": "python",
   "name": "Python [anaconda]"
  },
  "language_info": {
   "codemirror_mode": {
    "name": "ipython",
    "version": 2
   },
   "file_extension": ".py",
   "mimetype": "text/x-python",
   "name": "python",
   "nbconvert_exporter": "python",
   "pygments_lexer": "ipython2",
   "version": "2.7.14"
  }
 },
 "nbformat": 4,
 "nbformat_minor": 2
}
